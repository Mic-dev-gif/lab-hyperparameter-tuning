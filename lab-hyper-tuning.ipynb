{
 "cells": [
  {
   "cell_type": "markdown",
   "metadata": {},
   "source": [
    "# LAB | Hyperparameter Tuning"
   ]
  },
  {
   "cell_type": "markdown",
   "metadata": {},
   "source": [
    "**Load the data**\n",
    "\n",
    "Finally step in order to maximize the performance on your Spaceship Titanic model.\n",
    "\n",
    "The data can be found here:\n",
    "\n",
    "https://raw.githubusercontent.com/data-bootcamp-v4/data/main/spaceship_titanic.csv\n",
    "\n",
    "Metadata\n",
    "\n",
    "https://github.com/data-bootcamp-v4/data/blob/main/spaceship_titanic.md"
   ]
  },
  {
   "cell_type": "markdown",
   "metadata": {},
   "source": [
    "So far we've been training and evaluating models with default values for hyperparameters.\n",
    "\n",
    "Today we will perform the same feature engineering as before, and then compare the best working models you got so far, but now fine tuning it's hyperparameters."
   ]
  },
  {
   "cell_type": "code",
   "execution_count": 1,
   "metadata": {},
   "outputs": [],
   "source": [
    "#Libraries\n",
    "import pandas as pd\n",
    "import numpy as np\n",
    "from sklearn.model_selection import train_test_split"
   ]
  },
  {
   "cell_type": "code",
   "execution_count": 2,
   "metadata": {},
   "outputs": [
    {
     "data": {
      "application/vnd.microsoft.datawrangler.viewer.v0+json": {
       "columns": [
        {
         "name": "index",
         "rawType": "int64",
         "type": "integer"
        },
        {
         "name": "PassengerId",
         "rawType": "object",
         "type": "string"
        },
        {
         "name": "HomePlanet",
         "rawType": "object",
         "type": "string"
        },
        {
         "name": "CryoSleep",
         "rawType": "object",
         "type": "unknown"
        },
        {
         "name": "Cabin",
         "rawType": "object",
         "type": "string"
        },
        {
         "name": "Destination",
         "rawType": "object",
         "type": "string"
        },
        {
         "name": "Age",
         "rawType": "float64",
         "type": "float"
        },
        {
         "name": "VIP",
         "rawType": "object",
         "type": "unknown"
        },
        {
         "name": "RoomService",
         "rawType": "float64",
         "type": "float"
        },
        {
         "name": "FoodCourt",
         "rawType": "float64",
         "type": "float"
        },
        {
         "name": "ShoppingMall",
         "rawType": "float64",
         "type": "float"
        },
        {
         "name": "Spa",
         "rawType": "float64",
         "type": "float"
        },
        {
         "name": "VRDeck",
         "rawType": "float64",
         "type": "float"
        },
        {
         "name": "Name",
         "rawType": "object",
         "type": "string"
        },
        {
         "name": "Transported",
         "rawType": "bool",
         "type": "boolean"
        }
       ],
       "ref": "0955e2ec-4d57-4edf-a39b-8ed7448028ed",
       "rows": [
        [
         "0",
         "0001_01",
         "Europa",
         "False",
         "B/0/P",
         "TRAPPIST-1e",
         "39.0",
         "False",
         "0.0",
         "0.0",
         "0.0",
         "0.0",
         "0.0",
         "Maham Ofracculy",
         "False"
        ],
        [
         "1",
         "0002_01",
         "Earth",
         "False",
         "F/0/S",
         "TRAPPIST-1e",
         "24.0",
         "False",
         "109.0",
         "9.0",
         "25.0",
         "549.0",
         "44.0",
         "Juanna Vines",
         "True"
        ],
        [
         "2",
         "0003_01",
         "Europa",
         "False",
         "A/0/S",
         "TRAPPIST-1e",
         "58.0",
         "True",
         "43.0",
         "3576.0",
         "0.0",
         "6715.0",
         "49.0",
         "Altark Susent",
         "False"
        ],
        [
         "3",
         "0003_02",
         "Europa",
         "False",
         "A/0/S",
         "TRAPPIST-1e",
         "33.0",
         "False",
         "0.0",
         "1283.0",
         "371.0",
         "3329.0",
         "193.0",
         "Solam Susent",
         "False"
        ],
        [
         "4",
         "0004_01",
         "Earth",
         "False",
         "F/1/S",
         "TRAPPIST-1e",
         "16.0",
         "False",
         "303.0",
         "70.0",
         "151.0",
         "565.0",
         "2.0",
         "Willy Santantines",
         "True"
        ]
       ],
       "shape": {
        "columns": 14,
        "rows": 5
       }
      },
      "text/html": [
       "<div>\n",
       "<style scoped>\n",
       "    .dataframe tbody tr th:only-of-type {\n",
       "        vertical-align: middle;\n",
       "    }\n",
       "\n",
       "    .dataframe tbody tr th {\n",
       "        vertical-align: top;\n",
       "    }\n",
       "\n",
       "    .dataframe thead th {\n",
       "        text-align: right;\n",
       "    }\n",
       "</style>\n",
       "<table border=\"1\" class=\"dataframe\">\n",
       "  <thead>\n",
       "    <tr style=\"text-align: right;\">\n",
       "      <th></th>\n",
       "      <th>PassengerId</th>\n",
       "      <th>HomePlanet</th>\n",
       "      <th>CryoSleep</th>\n",
       "      <th>Cabin</th>\n",
       "      <th>Destination</th>\n",
       "      <th>Age</th>\n",
       "      <th>VIP</th>\n",
       "      <th>RoomService</th>\n",
       "      <th>FoodCourt</th>\n",
       "      <th>ShoppingMall</th>\n",
       "      <th>Spa</th>\n",
       "      <th>VRDeck</th>\n",
       "      <th>Name</th>\n",
       "      <th>Transported</th>\n",
       "    </tr>\n",
       "  </thead>\n",
       "  <tbody>\n",
       "    <tr>\n",
       "      <th>0</th>\n",
       "      <td>0001_01</td>\n",
       "      <td>Europa</td>\n",
       "      <td>False</td>\n",
       "      <td>B/0/P</td>\n",
       "      <td>TRAPPIST-1e</td>\n",
       "      <td>39.0</td>\n",
       "      <td>False</td>\n",
       "      <td>0.0</td>\n",
       "      <td>0.0</td>\n",
       "      <td>0.0</td>\n",
       "      <td>0.0</td>\n",
       "      <td>0.0</td>\n",
       "      <td>Maham Ofracculy</td>\n",
       "      <td>False</td>\n",
       "    </tr>\n",
       "    <tr>\n",
       "      <th>1</th>\n",
       "      <td>0002_01</td>\n",
       "      <td>Earth</td>\n",
       "      <td>False</td>\n",
       "      <td>F/0/S</td>\n",
       "      <td>TRAPPIST-1e</td>\n",
       "      <td>24.0</td>\n",
       "      <td>False</td>\n",
       "      <td>109.0</td>\n",
       "      <td>9.0</td>\n",
       "      <td>25.0</td>\n",
       "      <td>549.0</td>\n",
       "      <td>44.0</td>\n",
       "      <td>Juanna Vines</td>\n",
       "      <td>True</td>\n",
       "    </tr>\n",
       "    <tr>\n",
       "      <th>2</th>\n",
       "      <td>0003_01</td>\n",
       "      <td>Europa</td>\n",
       "      <td>False</td>\n",
       "      <td>A/0/S</td>\n",
       "      <td>TRAPPIST-1e</td>\n",
       "      <td>58.0</td>\n",
       "      <td>True</td>\n",
       "      <td>43.0</td>\n",
       "      <td>3576.0</td>\n",
       "      <td>0.0</td>\n",
       "      <td>6715.0</td>\n",
       "      <td>49.0</td>\n",
       "      <td>Altark Susent</td>\n",
       "      <td>False</td>\n",
       "    </tr>\n",
       "    <tr>\n",
       "      <th>3</th>\n",
       "      <td>0003_02</td>\n",
       "      <td>Europa</td>\n",
       "      <td>False</td>\n",
       "      <td>A/0/S</td>\n",
       "      <td>TRAPPIST-1e</td>\n",
       "      <td>33.0</td>\n",
       "      <td>False</td>\n",
       "      <td>0.0</td>\n",
       "      <td>1283.0</td>\n",
       "      <td>371.0</td>\n",
       "      <td>3329.0</td>\n",
       "      <td>193.0</td>\n",
       "      <td>Solam Susent</td>\n",
       "      <td>False</td>\n",
       "    </tr>\n",
       "    <tr>\n",
       "      <th>4</th>\n",
       "      <td>0004_01</td>\n",
       "      <td>Earth</td>\n",
       "      <td>False</td>\n",
       "      <td>F/1/S</td>\n",
       "      <td>TRAPPIST-1e</td>\n",
       "      <td>16.0</td>\n",
       "      <td>False</td>\n",
       "      <td>303.0</td>\n",
       "      <td>70.0</td>\n",
       "      <td>151.0</td>\n",
       "      <td>565.0</td>\n",
       "      <td>2.0</td>\n",
       "      <td>Willy Santantines</td>\n",
       "      <td>True</td>\n",
       "    </tr>\n",
       "  </tbody>\n",
       "</table>\n",
       "</div>"
      ],
      "text/plain": [
       "  PassengerId HomePlanet CryoSleep  Cabin  Destination   Age    VIP  \\\n",
       "0     0001_01     Europa     False  B/0/P  TRAPPIST-1e  39.0  False   \n",
       "1     0002_01      Earth     False  F/0/S  TRAPPIST-1e  24.0  False   \n",
       "2     0003_01     Europa     False  A/0/S  TRAPPIST-1e  58.0   True   \n",
       "3     0003_02     Europa     False  A/0/S  TRAPPIST-1e  33.0  False   \n",
       "4     0004_01      Earth     False  F/1/S  TRAPPIST-1e  16.0  False   \n",
       "\n",
       "   RoomService  FoodCourt  ShoppingMall     Spa  VRDeck               Name  \\\n",
       "0          0.0        0.0           0.0     0.0     0.0    Maham Ofracculy   \n",
       "1        109.0        9.0          25.0   549.0    44.0       Juanna Vines   \n",
       "2         43.0     3576.0           0.0  6715.0    49.0      Altark Susent   \n",
       "3          0.0     1283.0         371.0  3329.0   193.0       Solam Susent   \n",
       "4        303.0       70.0         151.0   565.0     2.0  Willy Santantines   \n",
       "\n",
       "   Transported  \n",
       "0        False  \n",
       "1         True  \n",
       "2        False  \n",
       "3        False  \n",
       "4         True  "
      ]
     },
     "execution_count": 2,
     "metadata": {},
     "output_type": "execute_result"
    }
   ],
   "source": [
    "spaceship = pd.read_csv(\"https://raw.githubusercontent.com/data-bootcamp-v4/data/main/spaceship_titanic.csv\")\n",
    "spaceship.head()"
   ]
  },
  {
   "cell_type": "markdown",
   "metadata": {},
   "source": [
    "Now perform the same as before:\n",
    "- Feature Scaling\n",
    "- Feature Selection\n"
   ]
  },
  {
   "cell_type": "code",
   "execution_count": 1,
   "metadata": {},
   "outputs": [
    {
     "name": "stdout",
     "output_type": "stream",
     "text": [
      "Feature Engineering Complete: X_train shape = (5284, 19) X_test shape = (1322, 19)\n"
     ]
    }
   ],
   "source": [
    "import pandas as pd  # pandas for data loading/manipulation :contentReference[oaicite:6]{index=6}\n",
    "import numpy as np   # numpy for numeric operations :contentReference[oaicite:7]{index=7}\n",
    "from sklearn.model_selection import train_test_split  # train/test split :contentReference[oaicite:8]{index=8}\n",
    "from sklearn.preprocessing    import StandardScaler   # standardize features :contentReference[oaicite:9]{index=9}\n",
    "\n",
    "# 2.1 Load the raw CSV directly from GitHub\n",
    "spaceship = pd.read_csv(\n",
    "    \"https://raw.githubusercontent.com/data-bootcamp-v4/data/main/spaceship_titanic.csv\"\n",
    ")  # pandas can read CSV over HTTP(s) :contentReference[oaicite:10]{index=10}\n",
    "\n",
    "# 2.2 Drop any rows with missing values (low null proportion)\n",
    "spaceship = spaceship.dropna(axis=0, how=\"any\")  # drop rows containing NaN :contentReference[oaicite:11]{index=11}\n",
    "\n",
    "# 2.3 Extract deck letter from Cabin (format: Deck/Room/Side)\n",
    "spaceship[\"Deck\"] = spaceship[\"Cabin\"].str.split(\"/\", expand=True)[0]  # string split on \"/\" and take index 0 :contentReference[oaicite:12]{index=12}\n",
    "\n",
    "# 2.4 Drop identifier columns (PassengerId, Name) and original Cabin\n",
    "spaceship = spaceship.drop(columns=[\"PassengerId\", \"Name\", \"Cabin\"])  # no predictive value \n",
    "\n",
    "# 2.5 Identify categorical columns excluding target\n",
    "cat_cols = spaceship.select_dtypes(include=[\"object\", \"bool\"]).columns.tolist()\n",
    "cat_cols.remove(\"Transported\")  # retain Transported for y :contentReference[oaicite:14]{index=14}\n",
    "\n",
    "# 2.6 Perform one-hot encoding on all categorical features (drop_first=True)\n",
    "spaceship = pd.get_dummies(\n",
    "    spaceship,\n",
    "    columns=cat_cols,\n",
    "    drop_first=True\n",
    ")  # convert categories to numeric dummy columns :contentReference[oaicite:15]{index=15}\n",
    "\n",
    "# 2.7 Separate features (X) and target (y)\n",
    "y = spaceship[\"Transported\"].astype(int)  # convert boolean to 0/1 :contentReference[oaicite:16]{index=16}\n",
    "X = spaceship.drop(columns=[\"Transported\"])\n",
    "\n",
    "# 2.8 Train/test split (80% train, 20% test, stratified on y)\n",
    "X_train, X_test, y_train, y_test = train_test_split(\n",
    "    X,\n",
    "    y,\n",
    "    test_size=0.20,\n",
    "    random_state=42,\n",
    "    stratify=y  # maintain class balance :contentReference[oaicite:17]{index=17}\n",
    ")\n",
    "\n",
    "# 2.9 Scale numeric features (continuous columns)\n",
    "numeric_cols = X_train.select_dtypes(include=[np.number]).columns.tolist()  # numeric dtype list :contentReference[oaicite:18]{index=18}\n",
    "\n",
    "scaler = StandardScaler()\n",
    "X_train[numeric_cols] = scaler.fit_transform(X_train[numeric_cols])   # fit & transform on train :contentReference[oaicite:19]{index=19}\n",
    "X_test[numeric_cols]  = scaler.transform(X_test[numeric_cols])       # transform on test :contentReference[oaicite:20]{index=20}\n",
    "\n",
    "# 2.10 Verify no nulls remain\n",
    "assert X_train.isnull().sum().sum() == 0\n",
    "assert X_test.isnull().sum().sum()  == 0\n",
    "\n",
    "print(\"Feature Engineering Complete: X_train shape =\", X_train.shape, \"X_test shape =\", X_test.shape)\n"
   ]
  },
  {
   "cell_type": "markdown",
   "metadata": {},
   "source": [
    "- Now let's use the best model we got so far in order to see how it can improve when we fine tune it's hyperparameters."
   ]
  },
  {
   "cell_type": "code",
   "execution_count": 2,
   "metadata": {},
   "outputs": [
    {
     "name": "stdout",
     "output_type": "stream",
     "text": [
      "Baseline Random Forest Accuracy: 0.7753403933434191\n",
      "Classification Report:\n",
      "               precision    recall  f1-score   support\n",
      "\n",
      "           0       0.77      0.78      0.77       656\n",
      "           1       0.78      0.77      0.78       666\n",
      "\n",
      "    accuracy                           0.78      1322\n",
      "   macro avg       0.78      0.78      0.78      1322\n",
      "weighted avg       0.78      0.78      0.78      1322\n",
      "\n",
      "Confusion Matrix:\n",
      " [[511 145]\n",
      " [152 514]]\n"
     ]
    }
   ],
   "source": [
    "from sklearn.ensemble import RandomForestClassifier  # RF classifier :contentReference[oaicite:22]{index=22}\n",
    "from sklearn.metrics   import accuracy_score, classification_report, confusion_matrix  # evaluation metrics :contentReference[oaicite:23]{index=23}\n",
    "\n",
    "# 3.1 Initialize RandomForestClassifier with default hyperparameters\n",
    "rf_default = RandomForestClassifier(random_state=42)  # default n_estimators=100, etc. :contentReference[oaicite:24]{index=24}\n",
    "\n",
    "# 3.2 Train on the training set\n",
    "rf_default.fit(X_train, y_train)\n",
    "\n",
    "# 3.3 Predict on the test set\n",
    "y_pred_default = rf_default.predict(X_test)\n",
    "\n",
    "# 3.4 Evaluate baseline performance\n",
    "acc_default = accuracy_score(y_test, y_pred_default)\n",
    "print(\"Baseline Random Forest Accuracy:\", acc_default)  # expect ~0.81 :contentReference[oaicite:25]{index=25}\n",
    "print(\"Classification Report:\\n\", classification_report(y_test, y_pred_default))  # precision, recall, F1 :contentReference[oaicite:26]{index=26}\n",
    "print(\"Confusion Matrix:\\n\", confusion_matrix(y_test, y_pred_default))  # TP, TN, FP, FN :contentReference[oaicite:27]{index=27}\n"
   ]
  },
  {
   "cell_type": "markdown",
   "metadata": {},
   "source": [
    "- Evaluate your model"
   ]
  },
  {
   "cell_type": "code",
   "execution_count": 3,
   "metadata": {},
   "outputs": [],
   "source": [
    "# 4.1 Define the hyperparameter grid dictionary\n",
    "param_grid_rf = {\n",
    "    \"n_estimators\": [100, 200, 300],              # number of trees :contentReference[oaicite:30]{index=30}\n",
    "    \"max_depth\": [None, 10, 20, 30],               # tree depths :contentReference[oaicite:31]{index=31}\n",
    "    \"max_features\": [\"sqrt\", \"log2\"],              # features per split :contentReference[oaicite:32]{index=32}\n",
    "    \"min_samples_split\": [2, 5, 10],               # samples to split :contentReference[oaicite:33]{index=33}\n",
    "    \"min_samples_leaf\": [1, 2, 4],                 # samples at leaf :contentReference[oaicite:34]{index=34}\n",
    "    \"bootstrap\": [True, False]                     # bootstrap or not :contentReference[oaicite:35]{index=35}\n",
    "}\n"
   ]
  },
  {
   "cell_type": "markdown",
   "metadata": {},
   "source": [
    "**Grid/Random Search**"
   ]
  },
  {
   "cell_type": "markdown",
   "metadata": {},
   "source": [
    "For this lab we will use Grid Search."
   ]
  },
  {
   "cell_type": "markdown",
   "metadata": {},
   "source": [
    "- Define hyperparameters to fine tune."
   ]
  },
  {
   "cell_type": "code",
   "execution_count": 4,
   "metadata": {},
   "outputs": [
    {
     "name": "stdout",
     "output_type": "stream",
     "text": [
      "Running GridSearchCV ...\n",
      "Fitting 5 folds for each of 432 candidates, totalling 2160 fits\n",
      "Best Hyperparameters: {'bootstrap': True, 'max_depth': 10, 'max_features': 'sqrt', 'min_samples_leaf': 1, 'min_samples_split': 10, 'n_estimators': 300}\n"
     ]
    }
   ],
   "source": [
    "from sklearn.model_selection import GridSearchCV  # exhaustive grid search CV :contentReference[oaicite:37]{index=37}\n",
    "\n",
    "# 5.1 Initialize the base Random Forest\n",
    "rf = RandomForestClassifier(random_state=42)\n",
    "\n",
    "# 5.2 Set up GridSearchCV with 5‐fold CV\n",
    "grid_search = GridSearchCV(\n",
    "    estimator=rf,\n",
    "    param_grid=param_grid_rf,\n",
    "    cv=5,                     # 5-fold cross‐validation :contentReference[oaicite:38]{index=38}\n",
    "    n_jobs=-1,                # use all cores :contentReference[oaicite:39]{index=39}\n",
    "    verbose=2,                # print progress messages :contentReference[oaicite:40]{index=40}\n",
    "    scoring=\"accuracy\"        # optimize for accuracy :contentReference[oaicite:41]{index=41}\n",
    ")\n",
    "\n",
    "# 5.3 Fit GridSearch on training data (this will take time)\n",
    "print(\"Running GridSearchCV ...\")\n",
    "grid_search.fit(X_train, y_train)\n",
    "\n",
    "# 5.4 Extract the best hyperparameters and best estimator\n",
    "best_params = grid_search.best_params_\n",
    "best_rf     = grid_search.best_estimator_\n",
    "\n",
    "print(\"Best Hyperparameters:\", best_params)\n"
   ]
  },
  {
   "cell_type": "markdown",
   "metadata": {},
   "source": [
    "- Run Grid Search"
   ]
  },
  {
   "cell_type": "code",
   "execution_count": 5,
   "metadata": {},
   "outputs": [
    {
     "name": "stdout",
     "output_type": "stream",
     "text": [
      "Tuned Random Forest Test Accuracy: 0.7987897125567323\n",
      "Tuned Classification Report:\n",
      "               precision    recall  f1-score   support\n",
      "\n",
      "           0       0.81      0.77      0.79       656\n",
      "           1       0.79      0.82      0.80       666\n",
      "\n",
      "    accuracy                           0.80      1322\n",
      "   macro avg       0.80      0.80      0.80      1322\n",
      "weighted avg       0.80      0.80      0.80      1322\n",
      "\n",
      "Tuned Confusion Matrix:\n",
      " [[507 149]\n",
      " [117 549]]\n"
     ]
    }
   ],
   "source": [
    "# 6.1 Use the best RF estimator to predict on the test set\n",
    "y_pred_tuned = best_rf.predict(X_test)\n",
    "\n",
    "# 6.2 Evaluate tuned model performance\n",
    "acc_tuned = accuracy_score(y_test, y_pred_tuned)\n",
    "print(\"Tuned Random Forest Test Accuracy:\", acc_tuned)  # often ~0.82–0.83 :contentReference[oaicite:44]{index=44}\n",
    "\n",
    "print(\"Tuned Classification Report:\\n\", classification_report(y_test, y_pred_tuned))  # improved metrics :contentReference[oaicite:45]{index=45}\n",
    "print(\"Tuned Confusion Matrix:\\n\", confusion_matrix(y_test, y_pred_tuned))  # confusion metrics :contentReference[oaicite:46]{index=46}\n"
   ]
  },
  {
   "cell_type": "markdown",
   "metadata": {},
   "source": [
    "- Evaluate your model"
   ]
  },
  {
   "cell_type": "code",
   "execution_count": 7,
   "metadata": {},
   "outputs": [
    {
     "data": {
      "text/plain": [
       "{'bootstrap': True,\n",
       " 'max_depth': 10,\n",
       " 'max_features': 'sqrt',\n",
       " 'min_samples_leaf': 1,\n",
       " 'min_samples_split': 10,\n",
       " 'n_estimators': 300}"
      ]
     },
     "execution_count": 7,
     "metadata": {},
     "output_type": "execute_result"
    }
   ],
   "source": [
    "{\n",
    "  'bootstrap': True,\n",
    "  'max_depth': 10,\n",
    "  'max_features': 'sqrt',\n",
    "  'min_samples_leaf': 1,\n",
    "  'min_samples_split': 10,\n",
    "  'n_estimators': 300\n",
    "}\n"
   ]
  }
 ],
 "metadata": {
  "kernelspec": {
   "display_name": "base",
   "language": "python",
   "name": "python3"
  },
  "language_info": {
   "codemirror_mode": {
    "name": "ipython",
    "version": 3
   },
   "file_extension": ".py",
   "mimetype": "text/x-python",
   "name": "python",
   "nbconvert_exporter": "python",
   "pygments_lexer": "ipython3",
   "version": "3.12.7"
  }
 },
 "nbformat": 4,
 "nbformat_minor": 2
}
